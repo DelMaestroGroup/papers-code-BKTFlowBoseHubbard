{
 "cells": [
  {
   "cell_type": "code",
   "execution_count": null,
   "metadata": {},
   "outputs": [],
   "source": [
    "from Measurement import KineticEnergy, PotentialEnergy, ParticleNumberFluctuations, Energy, ParticleNumberFluctuationsFromCorrelationsPBC\n",
    "from Result import Result, Parameters\n",
    "from pathlib import Path\n",
    "\n",
    "import matplotlib.pyplot as plt\n",
    "import numpy as np \n",
    "import zipfile_deflate64 as z64\n",
    "\n",
    "from tqdm.auto import tqdm\n",
    "from scipy.optimize import curve_fit"
   ]
  },
  {
   "cell_type": "markdown",
   "metadata": {},
   "source": [
    "Load the raw data and compute averages and errors."
   ]
  },
  {
   "cell_type": "code",
   "execution_count": null,
   "metadata": {},
   "outputs": [],
   "source": [
    "def load_qmc(L:int,seed_array=np.arange(1,1001,1),n_bins_threshold=350, beta_array = None ):\n",
    "    path = lambda beta, seed: Path(f\"./raw/sigma2_1D_L{L}_N{L}_M{L}_l{L//2}_U3.2255_t1.0000_beta{beta:4.4f}_binsize10000_seed{seed}_square_trialstate_gutzwiller.zip\") \n",
    "    \n",
    "    if beta_array is None:\n",
    "        beta_array = np.array([L/2])\n",
    "    \n",
    "    for beta in beta_array:\n",
    "        fn = path(beta,5000)\n",
    "        print(fn.stem)\n",
    "        params = Parameters.from_filename(fn.stem)\n",
    "        break\n",
    "        \n",
    "    result = Result(params, path=path) \n",
    "    result.add_measurement(measurement_factory=ParticleNumberFluctuationsFromCorrelationsPBC)\n",
    "        \n",
    "    for beta in beta_array:\n",
    "        fn = path(beta, 5000)\n",
    "        zip = z64.ZipFile(fn) \n",
    "        for seed in tqdm(seed_array):\n",
    "            try:\n",
    "                try:\n",
    "                    result.add_seed(seed=seed, beta=beta, n_bins_threshold=n_bins_threshold, zip=zip) \n",
    "                except ValueError as e:\n",
    "                    print(f\"Skipping seed {seed} due to: \", e)\n",
    "            except FileNotFoundError:\n",
    "                pass\n",
    "                print(f\"Skipping seed {seed} as file was not found.\") \n",
    "    result.evaluate()\n",
    "    return result"
   ]
  },
  {
   "cell_type": "code",
   "execution_count": null,
   "metadata": {},
   "outputs": [],
   "source": [
    "L_array = [32,48,96]\n",
    "beta_arrays = [[6,8,10,12,14,18,20],[10,15,20,24,30],[32,36,40,48]]\n",
    "\n",
    "pigsfli = {}\n",
    "for L, beta_array in zip(L_array,beta_arrays):\n",
    "    pigsfli[L] = load_qmc(L, seed_array=np.arange(1,5001),beta_array=beta_array)"
   ]
  },
  {
   "cell_type": "markdown",
   "metadata": {},
   "source": [
    "Perform the beta scaling"
   ]
  },
  {
   "cell_type": "code",
   "execution_count": null,
   "metadata": {},
   "outputs": [],
   "source": [
    "def beta_scale_F(F_dict,L):\n",
    "    beta_array = np.array(list(F_dict.keys()))\n",
    "    Fs = np.array([F_dict[beta][0] for beta in beta_array])\n",
    "    dFs = np.array([F_dict[beta][1] for beta in beta_array])\n",
    "    \n",
    "     \n",
    "    beta_law = lambda beta, F_inf, c1, c2: F_inf + c1 * np.exp(-c2*beta) \n",
    "\n",
    "    F_inf = []\n",
    "    dF_inf = []\n",
    "    c1 = []\n",
    "    c2 = []\n",
    "\n",
    "    for i in range(L//2): \n",
    "        F = np.array([F[i] for F in Fs])\n",
    "        dF = np.array([dF[i] for dF in dFs])\n",
    "        betas = np.array(beta_array) \n",
    "        \n",
    "        popt,pcov = curve_fit(beta_law, betas, F, absolute_sigma=True, sigma=dF, p0=[F[-1], 5, 1e-5],maxfev =100000,bounds=([0,-np.inf,0],[5,np.inf,10]))\n",
    "         \n",
    "        F_inf.append(popt[0])\n",
    "        dF_inf.append(np.sqrt(np.diag(pcov))[0])\n",
    "        c1.append(popt[1])\n",
    "        c2.append(popt[2])    \n",
    "         \n",
    "    F_inf = np.array(F_inf)\n",
    "    dF_inf = np.array(dF_inf)\n",
    "    \n",
    "    return np.arange(1,L//2+1), F_inf, dF_inf"
   ]
  },
  {
   "cell_type": "code",
   "execution_count": null,
   "metadata": {},
   "outputs": [],
   "source": [
    "ls = {}\n",
    "F = {}\n",
    "dF = {}\n",
    "for L in L_array: \n",
    "    ls[L], F[L], dF[L] = beta_scale_F(pigsfli[L].get_result(\"F_corr_pbc\"),L=L) "
   ]
  },
  {
   "cell_type": "markdown",
   "metadata": {},
   "source": [
    "Write aggregated data to file"
   ]
  },
  {
   "cell_type": "code",
   "execution_count": null,
   "metadata": {},
   "outputs": [],
   "source": [
    "for L in L_array:  \n",
    "    np.save(f\"../sigma2_2_aggregated_L{L}_U3.2255.npy\",np.array([ls[L],F[L],dF[L]]).T)"
   ]
  }
 ],
 "metadata": {
  "kernelspec": {
   "display_name": "dnn",
   "language": "python",
   "name": "python3"
  },
  "language_info": {
   "codemirror_mode": {
    "name": "ipython",
    "version": 3
   },
   "file_extension": ".py",
   "mimetype": "text/x-python",
   "name": "python",
   "nbconvert_exporter": "python",
   "pygments_lexer": "ipython3",
   "version": "3.9.16"
  }
 },
 "nbformat": 4,
 "nbformat_minor": 2
}
